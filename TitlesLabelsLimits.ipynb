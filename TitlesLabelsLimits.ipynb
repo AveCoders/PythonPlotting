{
 "cells": [
  {
   "cell_type": "code",
   "execution_count": null,
   "metadata": {},
   "outputs": [],
   "source": [
    "# The ``inline`` flag will use the appropriate backend to make figures appear inline in the notebook.  \n",
    "%matplotlib inline\n",
    "\n",
    "import pandas as pd\n",
    "import numpy as np\n",
    "\n",
    "# `plt` is an alias for the `matplotlib.pyplot` module\n",
    "import matplotlib.pyplot as plt\n",
    "\n",
    "# import seaborn library (wrapper of matplotlib)\n",
    "import seaborn as sns"
   ]
  },
  {
   "cell_type": "markdown",
   "metadata": {},
   "source": [
    "### Load Data"
   ]
  },
  {
   "cell_type": "code",
   "execution_count": null,
   "metadata": {},
   "outputs": [],
   "source": [
    "# Load car loan data into a pandas dataframe from a csv file\n",
    "filename = 'data/table_i702t60.csv'\n",
    "df = pd.read_csv(filename)"
   ]
  },
  {
   "cell_type": "code",
   "execution_count": null,
   "metadata": {},
   "outputs": [],
   "source": [
    "# View the first 5 rows of the dataframe\n",
    "df.head()"
   ]
  },
  {
   "cell_type": "code",
   "execution_count": null,
   "metadata": {},
   "outputs": [],
   "source": [
    "# Checking to make sure we dont have nans in our dataframe\n",
    "# It is not easy to directly plot data that contains nans\n",
    "df.info()"
   ]
  },
  {
   "cell_type": "code",
   "execution_count": null,
   "metadata": {},
   "outputs": [],
   "source": [
    "# For this notebook we will graph interest_paid, principal_paid, and month on one graph\n",
    "# While we could graph directly through pandas, we will graph through matplotlib for now.\n",
    "month_number = df.loc[:, 'month'].values\n",
    "interest_paid = df.loc[:, 'interest_paid'].values\n",
    "principal_paid = df.loc[:, 'principal_paid'].values"
   ]
  },
  {
   "cell_type": "code",
   "execution_count": null,
   "metadata": {},
   "outputs": [],
   "source": [
    "month_number"
   ]
  },
  {
   "cell_type": "code",
   "execution_count": null,
   "metadata": {},
   "outputs": [],
   "source": [
    "# The values attribute converts a column of values into a numpy array\n",
    "type(month_number)"
   ]
  },
  {
   "cell_type": "markdown",
   "metadata": {},
   "source": [
    "## Setting plot titles, labels, and limits"
   ]
  },
  {
   "cell_type": "markdown",
   "metadata": {},
   "source": [
    "### MATLAB-style"
   ]
  },
  {
   "cell_type": "code",
   "execution_count": null,
   "metadata": {},
   "outputs": [],
   "source": [
    "plt.plot(month_number, interest_paid, c= 'k')\n",
    "plt.plot(month_number, principal_paid, c = 'b')"
   ]
  },
  {
   "cell_type": "markdown",
   "metadata": {},
   "source": [
    "#### Set xlim and ylim"
   ]
  },
  {
   "cell_type": "code",
   "execution_count": null,
   "metadata": {},
   "outputs": [],
   "source": [
    "# This isn't the most practical use of changing ylim\n",
    "plt.plot(month_number, interest_paid, c= 'k')\n",
    "plt.plot(month_number, principal_paid, c = 'b')\n",
    "plt.xlim(left=1,right=70)\n",
    "plt.ylim(bottom=0,top=1000)"
   ]
  },
  {
   "cell_type": "markdown",
   "metadata": {},
   "source": [
    "#### Set xlabel and ylabel"
   ]
  },
  {
   "cell_type": "code",
   "execution_count": null,
   "metadata": {},
   "outputs": [],
   "source": [
    "# Obviously this isnt the most practical use of changing xlim and ylim\n",
    "plt.plot(month_number, interest_paid, c= 'k')\n",
    "plt.plot(month_number, principal_paid, c = 'b')\n",
    "plt.xlabel('Month')\n",
    "plt.ylabel('Dollars')"
   ]
  },
  {
   "cell_type": "markdown",
   "metadata": {},
   "source": [
    "#### Set Title"
   ]
  },
  {
   "cell_type": "code",
   "execution_count": null,
   "metadata": {},
   "outputs": [],
   "source": [
    "plt.plot(month_number, interest_paid, c= 'k')\n",
    "plt.plot(month_number, principal_paid, c = 'b')\n",
    "plt.xlabel('Month')\n",
    "plt.ylabel('Dollars')\n",
    "plt.title('Interest and Principal Paid Each Month')"
   ]
  },
  {
   "cell_type": "markdown",
   "metadata": {},
   "source": [
    "#### Changing Fontsize"
   ]
  },
  {
   "cell_type": "code",
   "execution_count": null,
   "metadata": {},
   "outputs": [],
   "source": [
    "plt.plot(month_number, interest_paid, c= 'k')\n",
    "plt.plot(month_number, principal_paid, c = 'b')\n",
    "plt.xlabel('Month', fontsize = 15)\n",
    "plt.ylabel('Dollars', fontsize = 15)\n",
    "plt.title('Interest and Principal Paid Each Month', fontsize = 15)"
   ]
  },
  {
   "cell_type": "code",
   "execution_count": null,
   "metadata": {},
   "outputs": [],
   "source": [
    "# Changing tick font size\n",
    "plt.plot(month_number, interest_paid, c= 'k')\n",
    "plt.plot(month_number, principal_paid, c = 'b')\n",
    "plt.xlabel('Month', fontsize = 15)\n",
    "plt.ylabel('Dollars', fontsize = 15)\n",
    "plt.title('Interest and Principal Paid Each Month', fontsize = 15)\n",
    "plt.xticks(fontsize = 15)\n",
    "plt.yticks(fontsize = 15)"
   ]
  },
  {
   "cell_type": "markdown",
   "metadata": {},
   "source": [
    "### Object-oriented"
   ]
  },
  {
   "cell_type": "code",
   "execution_count": null,
   "metadata": {},
   "outputs": [],
   "source": [
    "fig, axes = plt.subplots(nrows = 1, ncols = 1)\n",
    "axes.plot(month_number, interest_paid, c= 'k');\n",
    "axes.plot(month_number, principal_paid, c = 'b');"
   ]
  },
  {
   "cell_type": "markdown",
   "metadata": {},
   "source": [
    "#### Set xlim and ylim"
   ]
  },
  {
   "cell_type": "code",
   "execution_count": null,
   "metadata": {},
   "outputs": [],
   "source": [
    "fig, axes = plt.subplots(nrows = 1, ncols = 1)\n",
    "axes.plot(month_number, interest_paid, c= 'k');\n",
    "axes.plot(month_number, principal_paid, c = 'b');\n",
    "axes.set_xlim(left =1 , right = 70)\n",
    "axes.set_ylim(bottom = 0, top = 1000)"
   ]
  },
  {
   "cell_type": "markdown",
   "metadata": {},
   "source": [
    "#### Set xlabel and ylabel"
   ]
  },
  {
   "cell_type": "code",
   "execution_count": null,
   "metadata": {},
   "outputs": [],
   "source": [
    "fig, axes = plt.subplots(nrows = 1, ncols = 1)\n",
    "axes.plot(month_number, interest_paid, c= 'k');\n",
    "axes.plot(month_number, principal_paid, c = 'b');\n",
    "axes.set_xlabel('Month')\n",
    "axes.set_ylabel('Dollars')"
   ]
  },
  {
   "cell_type": "markdown",
   "metadata": {},
   "source": [
    "#### Set title"
   ]
  },
  {
   "cell_type": "code",
   "execution_count": null,
   "metadata": {},
   "outputs": [],
   "source": [
    "fig, axes = plt.subplots(nrows = 1, ncols = 1);\n",
    "axes.plot(month_number, interest_paid, c= 'k');\n",
    "axes.plot(month_number, principal_paid, c = 'b');\n",
    "axes.set_xlabel('Month');\n",
    "axes.set_ylabel('Dollars');\n",
    "axes.set_title('Interest and Principal Paid Each Month');"
   ]
  },
  {
   "cell_type": "markdown",
   "metadata": {},
   "source": [
    "#### Changing Fontsize"
   ]
  },
  {
   "cell_type": "code",
   "execution_count": null,
   "metadata": {},
   "outputs": [],
   "source": [
    "fig, axes = plt.subplots(nrows = 1, ncols = 1);\n",
    "axes.plot(month_number, interest_paid, c= 'k');\n",
    "axes.plot(month_number, principal_paid, c = 'b');\n",
    "axes.set_xlabel('Month', fontsize = 22);\n",
    "axes.set_ylabel('Dollars', fontsize = 22);\n",
    "axes.set_title('Interest and Principal Paid Each Month', fontsize = 22);"
   ]
  },
  {
   "cell_type": "code",
   "execution_count": null,
   "metadata": {},
   "outputs": [],
   "source": [
    "# Changing tick font size\n",
    "fig, axes = plt.subplots(nrows = 1, ncols = 1);\n",
    "axes.plot(month_number, interest_paid, c= 'k');\n",
    "axes.plot(month_number, principal_paid, c = 'b');\n",
    "axes.set_xlabel('Month', fontsize = 22);\n",
    "axes.set_ylabel('Dollars', fontsize = 22);\n",
    "axes.set_title('Interest and Principal Paid Each Month', fontsize = 22);\n",
    "axes.tick_params(axis = 'x', labelsize = 20)\n",
    "axes.tick_params(axis = 'y', labelsize = 20)"
   ]
  }
 ],
 "metadata": {
  "anaconda-cloud": {},
  "kernelspec": {
   "display_name": "Python 3",
   "language": "python",
   "name": "python3"
  },
  "language_info": {
   "codemirror_mode": {
    "name": "ipython",
    "version": 3
   },
   "file_extension": ".py",
   "mimetype": "text/x-python",
   "name": "python",
   "nbconvert_exporter": "python",
   "pygments_lexer": "ipython3",
   "version": "3.8.3"
  }
 },
 "nbformat": 4,
 "nbformat_minor": 1
}
